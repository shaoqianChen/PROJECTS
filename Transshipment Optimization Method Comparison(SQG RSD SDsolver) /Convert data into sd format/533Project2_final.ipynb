{
 "cells": [
  {
   "cell_type": "code",
   "execution_count": 9,
   "metadata": {},
   "outputs": [],
   "source": [
    "import pandas as pd\n",
    "import numpy as np\n",
    "import random"
   ]
  },
  {
   "cell_type": "code",
   "execution_count": 10,
   "metadata": {},
   "outputs": [],
   "source": [
    "#pick scenario of 7 numbers as demand\n",
    "def pick_sce7(sce_num):\n",
    "    data = pd.read_csv(\"individual_loc.csv\")\n",
    "    data_sce = data.loc[data['sce']==sce_num]\n",
    "    data_7 = data_sce.sample(7)\n",
    "    df1=data_7.copy()\n",
    "    df1[\"demand\"] = data_7['sales']*100 #generate the demand\n",
    "    return df1"
   ]
  },
  {
   "cell_type": "code",
   "execution_count": 11,
   "metadata": {},
   "outputs": [
    {
     "data": {
      "text/html": [
       "<div>\n",
       "<style scoped>\n",
       "    .dataframe tbody tr th:only-of-type {\n",
       "        vertical-align: middle;\n",
       "    }\n",
       "\n",
       "    .dataframe tbody tr th {\n",
       "        vertical-align: top;\n",
       "    }\n",
       "\n",
       "    .dataframe thead th {\n",
       "        text-align: right;\n",
       "    }\n",
       "</style>\n",
       "<table border=\"1\" class=\"dataframe\">\n",
       "  <thead>\n",
       "    <tr style=\"text-align: right;\">\n",
       "      <th></th>\n",
       "      <th>Unnamed: 0</th>\n",
       "      <th>LAT</th>\n",
       "      <th>LON</th>\n",
       "      <th>sce</th>\n",
       "      <th>sales</th>\n",
       "      <th>demand</th>\n",
       "    </tr>\n",
       "  </thead>\n",
       "  <tbody>\n",
       "    <tr>\n",
       "      <th>249</th>\n",
       "      <td>249</td>\n",
       "      <td>34.13802</td>\n",
       "      <td>-118.38916</td>\n",
       "      <td>0.0</td>\n",
       "      <td>1.79</td>\n",
       "      <td>179.0</td>\n",
       "    </tr>\n",
       "    <tr>\n",
       "      <th>296</th>\n",
       "      <td>296</td>\n",
       "      <td>34.07423</td>\n",
       "      <td>-118.34532</td>\n",
       "      <td>0.0</td>\n",
       "      <td>1.71</td>\n",
       "      <td>171.0</td>\n",
       "    </tr>\n",
       "    <tr>\n",
       "      <th>90</th>\n",
       "      <td>90</td>\n",
       "      <td>33.99646</td>\n",
       "      <td>-118.42000</td>\n",
       "      <td>0.0</td>\n",
       "      <td>1.59</td>\n",
       "      <td>159.0</td>\n",
       "    </tr>\n",
       "    <tr>\n",
       "      <th>246</th>\n",
       "      <td>246</td>\n",
       "      <td>33.74165</td>\n",
       "      <td>-118.30826</td>\n",
       "      <td>0.0</td>\n",
       "      <td>1.54</td>\n",
       "      <td>154.0</td>\n",
       "    </tr>\n",
       "    <tr>\n",
       "      <th>33</th>\n",
       "      <td>33</td>\n",
       "      <td>34.05190</td>\n",
       "      <td>-118.20786</td>\n",
       "      <td>0.0</td>\n",
       "      <td>1.17</td>\n",
       "      <td>117.0</td>\n",
       "    </tr>\n",
       "    <tr>\n",
       "      <th>204</th>\n",
       "      <td>204</td>\n",
       "      <td>34.27940</td>\n",
       "      <td>-118.56834</td>\n",
       "      <td>0.0</td>\n",
       "      <td>1.55</td>\n",
       "      <td>155.0</td>\n",
       "    </tr>\n",
       "    <tr>\n",
       "      <th>290</th>\n",
       "      <td>290</td>\n",
       "      <td>33.94761</td>\n",
       "      <td>-118.26128</td>\n",
       "      <td>0.0</td>\n",
       "      <td>0.74</td>\n",
       "      <td>74.0</td>\n",
       "    </tr>\n",
       "  </tbody>\n",
       "</table>\n",
       "</div>"
      ],
      "text/plain": [
       "     Unnamed: 0       LAT        LON  sce  sales  demand\n",
       "249         249  34.13802 -118.38916  0.0   1.79   179.0\n",
       "296         296  34.07423 -118.34532  0.0   1.71   171.0\n",
       "90           90  33.99646 -118.42000  0.0   1.59   159.0\n",
       "246         246  33.74165 -118.30826  0.0   1.54   154.0\n",
       "33           33  34.05190 -118.20786  0.0   1.17   117.0\n",
       "204         204  34.27940 -118.56834  0.0   1.55   155.0\n",
       "290         290  33.94761 -118.26128  0.0   0.74    74.0"
      ]
     },
     "execution_count": 11,
     "metadata": {},
     "output_type": "execute_result"
    }
   ],
   "source": [
    "df2 = pick_sce7(0)\n",
    "df2"
   ]
  },
  {
   "cell_type": "code",
   "execution_count": 12,
   "metadata": {},
   "outputs": [
    {
     "data": {
      "text/plain": [
       "1009.0"
      ]
     },
     "execution_count": 12,
     "metadata": {},
     "output_type": "execute_result"
    }
   ],
   "source": [
    "demand = df2['demand'].tolist()\n",
    "D = demand\n",
    "D\n",
    "sum(D)"
   ]
  },
  {
   "cell_type": "markdown",
   "metadata": {},
   "source": [
    "# Primal Problem CBC\n",
    "### Trail 1 of Iter 1"
   ]
  },
  {
   "cell_type": "code",
   "execution_count": 13,
   "metadata": {},
   "outputs": [],
   "source": [
    "import shutil\n",
    "import sys\n",
    "import os.path\n",
    "\n",
    "if not shutil.which(\"pyomo\"):\n",
    "    !pip install -q pyomo\n",
    "    assert(shutil.which(\"pyomo\"))\n",
    "\n",
    "if not (shutil.which(\"cbc\") or os.path.isfile(\"cbc\")):\n",
    "    if \"google.colab\" in sys.modules:\n",
    "        !apt-get install -y -qq coinor-cbc\n",
    "    else:\n",
    "        try:\n",
    "            !conda install -c conda-forge coincbc \n",
    "        except:\n",
    "            pass\n",
    "assert(shutil.which(\"cbc\") or os.path.isfile(\"cbc\"))"
   ]
  },
  {
   "cell_type": "code",
   "execution_count": 14,
   "metadata": {},
   "outputs": [],
   "source": [
    "from pyomo.environ import *\n",
    "from pyomo.core import *"
   ]
  },
  {
   "cell_type": "code",
   "execution_count": 15,
   "metadata": {},
   "outputs": [],
   "source": [
    "S = [100,100,100,100,100,100,100]"
   ]
  },
  {
   "cell_type": "code",
   "execution_count": 16,
   "metadata": {},
   "outputs": [],
   "source": [
    "model = ConcreteModel()\n",
    "model.d1 = Param(mutable=True)\n",
    "model.d2 = Param(mutable=True)\n",
    "model.d3 = Param(mutable=True)\n",
    "model.d4 = Param(mutable=True)\n",
    "model.d5 = Param(mutable=True)\n",
    "model.d6 = Param(mutable=True)\n",
    "model.d7 = Param(mutable=True)\n",
    "\n",
    "model.f1 = Var(within=NonNegativeReals)\n",
    "model.f2 = Var(within=NonNegativeReals)\n",
    "model.f3 = Var(within=NonNegativeReals)\n",
    "model.f4 = Var(within=NonNegativeReals)\n",
    "model.f5 = Var(within=NonNegativeReals)\n",
    "model.f6 = Var(within=NonNegativeReals)\n",
    "model.f7 = Var(within=NonNegativeReals)\n",
    "\n",
    "model.t12 = Var(within=NonNegativeReals)\n",
    "model.t13 = Var(within=NonNegativeReals)\n",
    "model.t14 = Var(within=NonNegativeReals)\n",
    "model.t15 = Var(within=NonNegativeReals)\n",
    "model.t16 = Var(within=NonNegativeReals)\n",
    "model.t17 = Var(within=NonNegativeReals)\n",
    "model.t21 = Var(within=NonNegativeReals)\n",
    "model.t23 = Var(within=NonNegativeReals)\n",
    "model.t24 = Var(within=NonNegativeReals)\n",
    "model.t25 = Var(within=NonNegativeReals)\n",
    "model.t26 = Var(within=NonNegativeReals)\n",
    "model.t27 = Var(within=NonNegativeReals)\n",
    "\n",
    "model.t31 = Var(within=NonNegativeReals)\n",
    "model.t32 = Var(within=NonNegativeReals)\n",
    "model.t34 = Var(within=NonNegativeReals)\n",
    "model.t35 = Var(within=NonNegativeReals)\n",
    "model.t36 = Var(within=NonNegativeReals)\n",
    "model.t37 = Var(within=NonNegativeReals)\n",
    "\n",
    "model.t41 = Var(within=NonNegativeReals)\n",
    "model.t42 = Var(within=NonNegativeReals)\n",
    "model.t43 = Var(within=NonNegativeReals)\n",
    "model.t45 = Var(within=NonNegativeReals)\n",
    "model.t46 = Var(within=NonNegativeReals)\n",
    "model.t47 = Var(within=NonNegativeReals)\n",
    "\n",
    "model.t51 = Var(within=NonNegativeReals)\n",
    "model.t52 = Var(within=NonNegativeReals)\n",
    "model.t53 = Var(within=NonNegativeReals)\n",
    "model.t54 = Var(within=NonNegativeReals)\n",
    "model.t56 = Var(within=NonNegativeReals)\n",
    "model.t57 = Var(within=NonNegativeReals)\n",
    "\n",
    "model.t61 = Var(within=NonNegativeReals)\n",
    "model.t62 = Var(within=NonNegativeReals)\n",
    "model.t63 = Var(within=NonNegativeReals)\n",
    "model.t64 = Var(within=NonNegativeReals)\n",
    "model.t65 = Var(within=NonNegativeReals)\n",
    "model.t67 = Var(within=NonNegativeReals)\n",
    "model.t71 = Var(within=NonNegativeReals)\n",
    "model.t72 = Var(within=NonNegativeReals)\n",
    "model.t73 = Var(within=NonNegativeReals)\n",
    "model.t74 = Var(within=NonNegativeReals)\n",
    "model.t75 = Var(within=NonNegativeReals)\n",
    "model.t76 = Var(within=NonNegativeReals)\n",
    "\n",
    "model.e1 = Var(within=NonNegativeReals)\n",
    "model.e2 = Var(within=NonNegativeReals)\n",
    "model.e3 = Var(within=NonNegativeReals)\n",
    "model.e4 = Var(within=NonNegativeReals)\n",
    "model.e5 = Var(within=NonNegativeReals)\n",
    "model.e6 = Var(within=NonNegativeReals)\n",
    "model.e7 = Var(within=NonNegativeReals)\n",
    "\n",
    "model.q1 = Var(within=NonNegativeReals)\n",
    "model.q2 = Var(within=NonNegativeReals)\n",
    "model.q3 = Var(within=NonNegativeReals)\n",
    "model.q4 = Var(within=NonNegativeReals)\n",
    "model.q5 = Var(within=NonNegativeReals)\n",
    "model.q6 = Var(within=NonNegativeReals)\n",
    "model.q7 = Var(within=NonNegativeReals)\n",
    "\n",
    "model.r1 = Var(within=NonNegativeReals)\n",
    "model.r2 = Var(within=NonNegativeReals)\n",
    "model.r3 = Var(within=NonNegativeReals)\n",
    "model.r4 = Var(within=NonNegativeReals)\n",
    "model.r5 = Var(within=NonNegativeReals)\n",
    "model.r6 = Var(within=NonNegativeReals)\n",
    "model.r7 = Var(within=NonNegativeReals)\n",
    "\n",
    "model.cost = Objective(expr=model.e1+model.e2+model.e3+model.e4+model.e5+model.e6+model.e7+\\\n",
    "                       model.t12+model.t13+model.t14+model.t15+model.t16+model.t17+\\\n",
    "                       model.t21+model.t23+model.t24+model.t25+model.t26+model.t27+\\\n",
    "                       model.t31+model.t32+model.t34+model.t35+model.t36+model.t37+\\\n",
    "                       model.t41+model.t42+model.t43+model.t45+model.t46+model.t47+\\\n",
    "                       model.t51+model.t52+model.t53+model.t54+model.t56+model.t57+\\\n",
    "                       model.t61+model.t62+model.t63+model.t64+model.t65+model.t67+\\\n",
    "                       model.t71+model.t72+model.t73+model.t74+model.t75+model.t76+\\\n",
    "                       +model.r1+model.r2+model.r3+model.r4+model.r5+model.r6+model.r7\\\n",
    "                       ,sense = minimize)"
   ]
  },
  {
   "cell_type": "code",
   "execution_count": 17,
   "metadata": {},
   "outputs": [],
   "source": [
    "model.a1 = Constraint(expr=model.f1 + model.t12+model.t13+model.t14+model.t15+model.t16+model.t17+model.e1== S[0])\n",
    "model.a2 = Constraint(expr=model.f2 + model.t21+model.t23+model.t24+model.t25+model.t26+model.t27+model.e2== S[1])\n",
    "model.a3 = Constraint(expr=model.f3 + model.t31+model.t32+model.t34+model.t35+model.t36+model.t37+model.e3== S[2])\n",
    "model.a4 = Constraint(expr=model.f4 + model.t41+model.t42+model.t43+model.t45+model.t46+model.t47+model.e4== S[3])\n",
    "model.a5 = Constraint(expr=model.f5 + model.t51+model.t52+model.t53+model.t54+model.t56+model.t57+model.e5== S[4])\n",
    "model.a6 = Constraint(expr=model.f6 + model.t61+model.t62+model.t63+model.t64+model.t65+model.t67+model.e6== S[5])\n",
    "model.a7 = Constraint(expr=model.f7 + model.t71+model.t72+model.t73+model.t74+model.t75+model.t76+model.e7== S[6])\n",
    "model.n1 = Constraint(expr=model.f1 + model.t21+model.t31+model.t41+model.t51+model.t61+model.t71+model.r1== model.d1)\n",
    "model.n2 = Constraint(expr=model.f2 + model.t12+model.t32+model.t42+model.t52+model.t62+model.t72+model.r2== model.d2)\n",
    "model.n3 = Constraint(expr=model.f3 + model.t13+model.t23+model.t43+model.t53+model.t63+model.t73+model.r3== model.d3)\n",
    "model.n4 = Constraint(expr=model.f4 + model.t14+model.t24+model.t34+model.t54+model.t64+model.t74+model.r4== model.d4)\n",
    "model.n5 = Constraint(expr=model.f5 + model.t15+model.t25+model.t35+model.t45+model.t65+model.t75+model.r5== model.d5)\n",
    "model.n6 = Constraint(expr=model.f6 + model.t16+model.t26+model.t36+model.t46+model.t56+model.t76+model.r6== model.d6)\n",
    "model.n7 = Constraint(expr=model.f7 + model.t17+model.t27+model.t37+model.t47+model.t57+model.t67+model.r7== model.d7)\n",
    "\n",
    "model.c11 = Constraint(expr=model.r1+model.r2+model.r3+model.r4+model.r5+model.r6+model.r7+\\\n",
    "                       model.q1+model.q2+model.q3+model.q4+model.q5+model.q6+model.q7==\\\n",
    "                       model.d1+model.d2+model.d3+model.d4+model.d5+model.d6+model.d7)\n",
    "model.dd1 = Constraint(expr=model.e1+model.q1==S[0])\n",
    "model.dd2 = Constraint(expr=model.e2+model.q2==S[1])\n",
    "model.dd3 = Constraint(expr=model.e3+model.q3==S[2])\n",
    "model.dd4 = Constraint(expr=model.e4+model.q4==S[3])\n",
    "model.dd5 = Constraint(expr=model.e5+model.q5==S[4])\n",
    "model.dd6 = Constraint(expr=model.e6+model.q6==S[5])\n",
    "model.dd7 = Constraint(expr=model.e7+model.q7==S[6])"
   ]
  },
  {
   "cell_type": "code",
   "execution_count": 18,
   "metadata": {},
   "outputs": [
    {
     "name": "stdout",
     "output_type": "stream",
     "text": [
      "# ==========================================================\n",
      "# = Solver Results                                         =\n",
      "# ==========================================================\n",
      "# ----------------------------------------------------------\n",
      "#   Problem Information\n",
      "# ----------------------------------------------------------\n",
      "Problem: \n",
      "- Name: unknown\n",
      "  Lower bound: 335.0\n",
      "  Upper bound: 335.0\n",
      "  Number of objectives: 1\n",
      "  Number of constraints: 23\n",
      "  Number of variables: 71\n",
      "  Number of nonzeros: 56\n",
      "  Sense: minimize\n",
      "# ----------------------------------------------------------\n",
      "#   Solver Information\n",
      "# ----------------------------------------------------------\n",
      "Solver: \n",
      "- Status: ok\n",
      "  User time: -1.0\n",
      "  System time: 0.01\n",
      "  Wallclock time: 0.0\n",
      "  Termination condition: optimal\n",
      "  Termination message: Model was solved to optimality (subject to tolerances), and an optimal solution is available.\n",
      "  Statistics: \n",
      "    Branch and bound: \n",
      "      Number of bounded subproblems: None\n",
      "      Number of created subproblems: None\n",
      "    Black box: \n",
      "      Number of iterations: 17\n",
      "  Error rc: 0\n",
      "  Time: 0.017852067947387695\n",
      "# ----------------------------------------------------------\n",
      "#   Solution Information\n",
      "# ----------------------------------------------------------\n",
      "Solution: \n",
      "- number of solutions: 0\n",
      "  number of solutions displayed: 0\n"
     ]
    }
   ],
   "source": [
    "model.d1 = D[0]\n",
    "model.d2 = D[1]\n",
    "model.d3 = D[2]\n",
    "model.d4 = D[3]\n",
    "model.d5 = D[4]\n",
    "model.d6 = D[5]\n",
    "model.d7 = D[6]\n",
    "SolverFactory('cbc').solve(model).write()"
   ]
  },
  {
   "cell_type": "code",
   "execution_count": 19,
   "metadata": {},
   "outputs": [
    {
     "data": {
      "text/plain": [
       "335.0"
      ]
     },
     "execution_count": 19,
     "metadata": {},
     "output_type": "execute_result"
    }
   ],
   "source": [
    "model.cost()"
   ]
  },
  {
   "cell_type": "code",
   "execution_count": 20,
   "metadata": {},
   "outputs": [
    {
     "data": {
      "text/plain": [
       "100.0"
      ]
     },
     "execution_count": 20,
     "metadata": {},
     "output_type": "execute_result"
    }
   ],
   "source": [
    "model.f1()"
   ]
  },
  {
   "cell_type": "code",
   "execution_count": null,
   "metadata": {},
   "outputs": [],
   "source": []
  }
 ],
 "metadata": {
  "kernelspec": {
   "display_name": "Python 3",
   "language": "python",
   "name": "python3"
  },
  "language_info": {
   "codemirror_mode": {
    "name": "ipython",
    "version": 3
   },
   "file_extension": ".py",
   "mimetype": "text/x-python",
   "name": "python",
   "nbconvert_exporter": "python",
   "pygments_lexer": "ipython3",
   "version": "3.7.6"
  }
 },
 "nbformat": 4,
 "nbformat_minor": 4
}
