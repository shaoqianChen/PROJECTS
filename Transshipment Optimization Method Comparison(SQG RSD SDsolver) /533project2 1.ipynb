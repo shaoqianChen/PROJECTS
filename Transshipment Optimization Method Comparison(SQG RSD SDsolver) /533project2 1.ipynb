{
 "cells": [
  {
   "cell_type": "code",
   "execution_count": 314,
   "metadata": {
    "colab": {},
    "colab_type": "code",
    "id": "Dtx6EUBhi_gy"
   },
   "outputs": [],
   "source": [
    "import pandas as pd\n",
    "import numpy as np\n",
    "import random\n",
    "import operator\n",
    "import time"
   ]
  },
  {
   "cell_type": "code",
   "execution_count": 315,
   "metadata": {
    "colab": {},
    "colab_type": "code",
    "id": "_bYurrJijEiX"
   },
   "outputs": [],
   "source": [
    "import shutil\n",
    "import sys\n",
    "import os.path\n",
    "\n",
    "if not shutil.which(\"pyomo\"):\n",
    "    !pip install -q pyomo\n",
    "    assert(shutil.which(\"pyomo\"))\n",
    "\n",
    "if not (shutil.which(\"cbc\") or os.path.isfile(\"cbc\")):\n",
    "    if \"google.colab\" in sys.modules:\n",
    "        !apt-get install -y -qq coinor-cbc\n",
    "    else:\n",
    "        try:\n",
    "            !conda install -c conda-forge coincbc \n",
    "        except:\n",
    "            pass\n",
    "assert(shutil.which(\"cbc\") or os.path.isfile(\"cbc\"))"
   ]
  },
  {
   "cell_type": "code",
   "execution_count": 316,
   "metadata": {
    "colab": {},
    "colab_type": "code",
    "id": "sI7f0D9djGCb"
   },
   "outputs": [],
   "source": [
    "from pyomo.environ import *\n",
    "from pyomo.core import *\n"
   ]
  },
  {
   "cell_type": "code",
   "execution_count": 317,
   "metadata": {},
   "outputs": [],
   "source": [
    "from __future__ import division\n",
    "import pyomo.environ as pyo\n",
    "from pyomo.opt import SolverFactory"
   ]
  },
  {
   "cell_type": "code",
   "execution_count": 318,
   "metadata": {
    "colab": {},
    "colab_type": "code",
    "id": "atII3oUIirp9"
   },
   "outputs": [],
   "source": [
    "#pick scenario of 7 numbers as demand\n",
    "def pick_sce7(sce_num):\n",
    "    data = pd.read_csv(\"individual_loc.csv\")\n",
    "    data_sce = data.loc[data['sce']==sce_num]\n",
    "    data_7 = data_sce.sample(7)\n",
    "    df1=data_7.copy()\n",
    "    df1[\"demand\"] = data_7['sales']*100 #generate the demand\n",
    "    return df1"
   ]
  },
  {
   "cell_type": "code",
   "execution_count": 319,
   "metadata": {},
   "outputs": [],
   "source": [
    "S = [100,100,100,100,100,100,100]\n",
    "def iteration_1(num_trail,S):\n",
    "    model_cost = []\n",
    "    dual_mult = []\n",
    "    \n",
    "    for i in range(num_trail):\n",
    "        df2 = pick_sce7(i)\n",
    "        D = df2['demand'].tolist()\n",
    "        \n",
    "        #CBC modeling\n",
    "        model = ConcreteModel()\n",
    "        model.d1 = Param(mutable=True)\n",
    "        model.d2 = Param(mutable=True)\n",
    "        model.d3 = Param(mutable=True)\n",
    "        model.d4 = Param(mutable=True)\n",
    "        model.d5 = Param(mutable=True)\n",
    "        model.d6 = Param(mutable=True)\n",
    "        model.d7 = Param(mutable=True)\n",
    "\n",
    "        model.f1 = Var(within=NonNegativeReals)\n",
    "        model.f2 = Var(within=NonNegativeReals)\n",
    "        model.f3 = Var(within=NonNegativeReals)\n",
    "        model.f4 = Var(within=NonNegativeReals)\n",
    "        model.f5 = Var(within=NonNegativeReals)\n",
    "        model.f6 = Var(within=NonNegativeReals)\n",
    "        model.f7 = Var(within=NonNegativeReals)\n",
    "\n",
    "        model.t12 = Var(within=NonNegativeReals)\n",
    "        model.t13 = Var(within=NonNegativeReals)\n",
    "        model.t14 = Var(within=NonNegativeReals)\n",
    "        model.t15 = Var(within=NonNegativeReals)\n",
    "        model.t16 = Var(within=NonNegativeReals)\n",
    "        model.t17 = Var(within=NonNegativeReals)\n",
    "        model.t21 = Var(within=NonNegativeReals)\n",
    "        model.t23 = Var(within=NonNegativeReals)\n",
    "        model.t24 = Var(within=NonNegativeReals)\n",
    "        model.t25 = Var(within=NonNegativeReals)\n",
    "        model.t26 = Var(within=NonNegativeReals)\n",
    "        model.t27 = Var(within=NonNegativeReals)\n",
    "\n",
    "        model.t31 = Var(within=NonNegativeReals)\n",
    "        model.t32 = Var(within=NonNegativeReals)\n",
    "        model.t34 = Var(within=NonNegativeReals)\n",
    "        model.t35 = Var(within=NonNegativeReals)\n",
    "        model.t36 = Var(within=NonNegativeReals)\n",
    "        model.t37 = Var(within=NonNegativeReals)\n",
    "\n",
    "        model.t41 = Var(within=NonNegativeReals)\n",
    "        model.t42 = Var(within=NonNegativeReals)\n",
    "        model.t43 = Var(within=NonNegativeReals)\n",
    "        model.t45 = Var(within=NonNegativeReals)\n",
    "        model.t46 = Var(within=NonNegativeReals)\n",
    "        model.t47 = Var(within=NonNegativeReals)\n",
    "\n",
    "        model.t51 = Var(within=NonNegativeReals)\n",
    "        model.t52 = Var(within=NonNegativeReals)\n",
    "        model.t53 = Var(within=NonNegativeReals)\n",
    "        model.t54 = Var(within=NonNegativeReals)\n",
    "        model.t56 = Var(within=NonNegativeReals)\n",
    "        model.t57 = Var(within=NonNegativeReals)\n",
    "\n",
    "        model.t61 = Var(within=NonNegativeReals)\n",
    "        model.t62 = Var(within=NonNegativeReals)\n",
    "        model.t63 = Var(within=NonNegativeReals)\n",
    "        model.t64 = Var(within=NonNegativeReals)\n",
    "        model.t65 = Var(within=NonNegativeReals)\n",
    "        model.t67 = Var(within=NonNegativeReals)\n",
    "        model.t71 = Var(within=NonNegativeReals)\n",
    "        model.t72 = Var(within=NonNegativeReals)\n",
    "        model.t73 = Var(within=NonNegativeReals)\n",
    "        model.t74 = Var(within=NonNegativeReals)\n",
    "        model.t75 = Var(within=NonNegativeReals)\n",
    "        model.t76 = Var(within=NonNegativeReals)\n",
    "\n",
    "        model.e1 = Var(within=NonNegativeReals)\n",
    "        model.e2 = Var(within=NonNegativeReals)\n",
    "        model.e3 = Var(within=NonNegativeReals)\n",
    "        model.e4 = Var(within=NonNegativeReals)\n",
    "        model.e5 = Var(within=NonNegativeReals)\n",
    "        model.e6 = Var(within=NonNegativeReals)\n",
    "        model.e7 = Var(within=NonNegativeReals)\n",
    "\n",
    "        model.q1 = Var(within=NonNegativeReals)\n",
    "        model.q2 = Var(within=NonNegativeReals)\n",
    "        model.q3 = Var(within=NonNegativeReals)\n",
    "        model.q4 = Var(within=NonNegativeReals)\n",
    "        model.q5 = Var(within=NonNegativeReals)\n",
    "        model.q6 = Var(within=NonNegativeReals)\n",
    "        model.q7 = Var(within=NonNegativeReals)\n",
    "\n",
    "        model.r1 = Var(within=NonNegativeReals)\n",
    "        model.r2 = Var(within=NonNegativeReals)\n",
    "        model.r3 = Var(within=NonNegativeReals)\n",
    "        model.r4 = Var(within=NonNegativeReals)\n",
    "        model.r5 = Var(within=NonNegativeReals)\n",
    "        model.r6 = Var(within=NonNegativeReals)\n",
    "        model.r7 = Var(within=NonNegativeReals)\n",
    "\n",
    "        model.cost = Objective(expr=model.e1+model.e2+model.e3+model.e4+model.e5+model.e6+model.e7+\\\n",
    "                               model.t12+model.t13+model.t14+model.t15+model.t16+model.t17+\\\n",
    "                               model.t21+model.t23+model.t24+model.t25+model.t26+model.t27+\\\n",
    "                               model.t31+model.t32+model.t34+model.t35+model.t36+model.t37+\\\n",
    "                               model.t41+model.t42+model.t43+model.t45+model.t46+model.t47+\\\n",
    "                               model.t51+model.t52+model.t53+model.t54+model.t56+model.t57+\\\n",
    "                               model.t61+model.t62+model.t63+model.t64+model.t65+model.t67+\\\n",
    "                               model.t71+model.t72+model.t73+model.t74+model.t75+model.t76+\\\n",
    "                               +model.r1+model.r2+model.r3+model.r4+model.r5+model.r6+model.r7\\\n",
    "                               ,sense = minimize)\n",
    "        \n",
    "        #CBC Constraint\n",
    "        \n",
    "        model.a1 = Constraint(expr=model.f1 + model.t12+model.t13+model.t14+model.t15+model.t16+model.t17+model.e1== S[0])\n",
    "        model.a2 = Constraint(expr=model.f2 + model.t21+model.t23+model.t24+model.t25+model.t26+model.t27+model.e2== S[1])\n",
    "        model.a3 = Constraint(expr=model.f3 + model.t31+model.t32+model.t34+model.t35+model.t36+model.t37+model.e3== S[2])\n",
    "        model.a4 = Constraint(expr=model.f4 + model.t41+model.t42+model.t43+model.t45+model.t46+model.t47+model.e4== S[3])\n",
    "        model.a5 = Constraint(expr=model.f5 + model.t51+model.t52+model.t53+model.t54+model.t56+model.t57+model.e5== S[4])\n",
    "        model.a6 = Constraint(expr=model.f6 + model.t61+model.t62+model.t63+model.t64+model.t65+model.t67+model.e6== S[5])\n",
    "        model.a7 = Constraint(expr=model.f7 + model.t71+model.t72+model.t73+model.t74+model.t75+model.t76+model.e7== S[6])\n",
    "        model.n1 = Constraint(expr=model.f1 + model.t21+model.t31+model.t41+model.t51+model.t61+model.t71+model.r1== model.d1)\n",
    "        model.n2 = Constraint(expr=model.f2 + model.t12+model.t32+model.t42+model.t52+model.t62+model.t72+model.r2== model.d2)\n",
    "        model.n3 = Constraint(expr=model.f3 + model.t13+model.t23+model.t43+model.t53+model.t63+model.t73+model.r3== model.d3)\n",
    "        model.n4 = Constraint(expr=model.f4 + model.t14+model.t24+model.t34+model.t54+model.t64+model.t74+model.r4== model.d4)\n",
    "        model.n5 = Constraint(expr=model.f5 + model.t15+model.t25+model.t35+model.t45+model.t65+model.t75+model.r5== model.d5)\n",
    "        model.n6 = Constraint(expr=model.f6 + model.t16+model.t26+model.t36+model.t46+model.t56+model.t76+model.r6== model.d6)\n",
    "        model.n7 = Constraint(expr=model.f7 + model.t17+model.t27+model.t37+model.t47+model.t57+model.t67+model.r7== model.d7)\n",
    "\n",
    "        model.c11 = Constraint(expr=model.r1+model.r2+model.r3+model.r4+model.r5+model.r6+model.r7+\\\n",
    "                               model.q1+model.q2+model.q3+model.q4+model.q5+model.q6+model.q7==\\\n",
    "                               model.d1+model.d2+model.d3+model.d4+model.d5+model.d6+model.d7)\n",
    "        model.dd1 = Constraint(expr=model.e1+model.q1==S[0])\n",
    "        model.dd2 = Constraint(expr=model.e2+model.q2==S[1])\n",
    "        model.dd3 = Constraint(expr=model.e3+model.q3==S[2])\n",
    "        model.dd4 = Constraint(expr=model.e4+model.q4==S[3])\n",
    "        model.dd5 = Constraint(expr=model.e5+model.q5==S[4])\n",
    "        model.dd6 = Constraint(expr=model.e6+model.q6==S[5])\n",
    "        model.dd7 = Constraint(expr=model.e7+model.q7==S[6])\n",
    "        \n",
    "        model.d1 = D[0]\n",
    "        model.d2 = D[1]\n",
    "        model.d3 = D[2]\n",
    "        model.d4 = D[3]\n",
    "        model.d5 = D[4]\n",
    "        model.d6 = D[5]\n",
    "        model.d7 = D[6]\n",
    "        SolverFactory('cbc').solve(model)\n",
    "        \n",
    "        model_cost.append(model.cost())\n",
    "        \n",
    "        #Generate Dual Problem\n",
    "        \n",
    "        \n",
    "        opt = SolverFactory('cbc')\n",
    "        model.dual = pyo.Suffix(direction=pyo.Suffix.IMPORT)\n",
    "        results = opt.solve(model)\n",
    "        \n",
    "        duals = []\n",
    "        for c in model.component_objects(pyo.Constraint, active=True):\n",
    "          for i in c:\n",
    "            duals.append(model.dual[c[i]])\n",
    "            \n",
    "        #first gradient set\n",
    "        g1 = duals[0]+duals[15]\n",
    "        g2 = duals[1]+duals[16]\n",
    "        g3 = duals[2]+duals[17]\n",
    "        g4 = duals[3]+duals[18]\n",
    "        g5 = duals[4]+duals[19]\n",
    "        g6 = duals[5]+duals[20]\n",
    "        g7 = duals[6]+duals[21]\n",
    "        G1 = [g1,g2,g3,g4,g5,g6,g7]\n",
    "        dual_mult.append(G1)\n",
    "    return dual_mult;"
   ]
  },
  {
   "cell_type": "code",
   "execution_count": 320,
   "metadata": {},
   "outputs": [],
   "source": [
    "def avg_grad(a,S_old,learn_rate):\n",
    "    avg = []\n",
    "    Snew = []\n",
    "    pos = [] # store mean\n",
    "    for i in range(7):\n",
    "        temp = [] # 吧每个第一个存进来\n",
    "        for j in range(len(a)):\n",
    "            temp.append(a[j][i])\n",
    "        pos.append(np.mean(temp))\n",
    "    Snew = list(map(operator.sub,S_old,[learn_rate* x2 for x2 in pos]))\n",
    "    return Snew,pos"
   ]
  },
  {
   "cell_type": "code",
   "execution_count": 321,
   "metadata": {},
   "outputs": [
    {
     "data": {
      "text/plain": [
       "([199.9985882352941,\n",
       "  199.999,\n",
       "  199.99882352941177,\n",
       "  200.00017647058823,\n",
       "  199.997,\n",
       "  199.99823529411765,\n",
       "  200.00041176470586],\n",
       " [-0.058823529411764705,\n",
       "  0.0,\n",
       "  0.11764705882352941,\n",
       "  -0.11764705882352941,\n",
       "  0.0,\n",
       "  0.17647058823529413,\n",
       "  0.058823529411764705])"
      ]
     },
     "execution_count": 321,
     "metadata": {},
     "output_type": "execute_result"
    }
   ],
   "source": [
    "avg_grad(iteration_1(17,[199.998, 199.999, 200.0, 199.999, 199.997, 200.0, 200.00099999999998]),[199.998, 199.999, 200.0, 199.999, 199.997, 200.0, 200.00099999999998],0.01)"
   ]
  },
  {
   "cell_type": "code",
   "execution_count": 342,
   "metadata": {},
   "outputs": [],
   "source": [
    "S = [200,200,200,200,200,200,200]\n",
    "\n",
    "def last_step(SS):\n",
    "    \n",
    "    print(1)\n",
    "    xxx = avg_grad(iteration_1(13,SS),SS,0.01)[1]\n",
    "    tt = [abs(x)<= 0.4 for x in xxx]\n",
    "    print(2)\n",
    "\n",
    "    while tt != [True,True,True,True,True,True,True]:\n",
    "        print(3)\n",
    "        SS = avg_grad(iteration_1(13,SS),SS,0.01)[0]\n",
    "        print(4)\n",
    "        last_step(SS)\n",
    "        \n",
    "        \n",
    "    print(avg_grad(iteration_1(13,SS),SS,0.01))\n",
    "    return avg_grad(iteration_1(13,SS),SS,0.01) \n",
    "    \n"
   ]
  },
  {
   "cell_type": "code",
   "execution_count": null,
   "metadata": {},
   "outputs": [],
   "source": [
    "last_step(S)"
   ]
  },
  {
   "cell_type": "code",
   "execution_count": 338,
   "metadata": {},
   "outputs": [
    {
     "data": {
      "text/plain": [
       "[0.23076923076923078,\n",
       " 0.07692307692307693,\n",
       " 0.23076923076923078,\n",
       " 0.3076923076923077,\n",
       " 0.38461538461538464,\n",
       " 0.07692307692307693,\n",
       " 0.6153846153846154]"
      ]
     },
     "execution_count": 338,
     "metadata": {},
     "output_type": "execute_result"
    }
   ],
   "source": [
    "SS = [200,200,200,200,200,200,200]\n",
    "xxx = avg_grad(iteration_1(13,SS),SS,0.01)[1]\n",
    "xxx"
   ]
  },
  {
   "cell_type": "code",
   "execution_count": 339,
   "metadata": {},
   "outputs": [
    {
     "data": {
      "text/plain": [
       "[True, True, True, True, True, True, True]"
      ]
     },
     "execution_count": 339,
     "metadata": {},
     "output_type": "execute_result"
    }
   ],
   "source": [
    "tt = [abs(x)<= 1 for x in xxx]\n",
    "tt"
   ]
  },
  {
   "cell_type": "code",
   "execution_count": 340,
   "metadata": {},
   "outputs": [
    {
     "data": {
      "text/plain": [
       "False"
      ]
     },
     "execution_count": 340,
     "metadata": {},
     "output_type": "execute_result"
    }
   ],
   "source": [
    "tt != [True,True,True,True,True,True,True]"
   ]
  },
  {
   "cell_type": "code",
   "execution_count": 220,
   "metadata": {},
   "outputs": [
    {
     "name": "stdout",
     "output_type": "stream",
     "text": [
      "-382.262090921402\n"
     ]
    }
   ],
   "source": [
    "start = time.time()\n",
    "print(end-start)"
   ]
  },
  {
   "cell_type": "code",
   "execution_count": 123,
   "metadata": {},
   "outputs": [
    {
     "data": {
      "text/plain": [
       "[0.1, 0.2, 0.0, 0.4, -0.1, 0.3, 0.3]"
      ]
     },
     "execution_count": 123,
     "metadata": {},
     "output_type": "execute_result"
    }
   ],
   "source": [
    "a1 = iteration_1(10,S)\n",
    "avg_grad(a1,S,0.1)[1]"
   ]
  },
  {
   "cell_type": "code",
   "execution_count": 124,
   "metadata": {},
   "outputs": [
    {
     "data": {
      "text/plain": [
       "[True, True, True, True, True, True, True]"
      ]
     },
     "execution_count": 124,
     "metadata": {},
     "output_type": "execute_result"
    }
   ],
   "source": [
    "[abs(x)<= 0.5 for x in avg_grad(a1,S,0.1)[1]]"
   ]
  },
  {
   "cell_type": "code",
   "execution_count": null,
   "metadata": {},
   "outputs": [],
   "source": []
  },
  {
   "cell_type": "code",
   "execution_count": null,
   "metadata": {},
   "outputs": [],
   "source": []
  },
  {
   "cell_type": "code",
   "execution_count": null,
   "metadata": {},
   "outputs": [],
   "source": []
  },
  {
   "cell_type": "code",
   "execution_count": null,
   "metadata": {},
   "outputs": [],
   "source": []
  },
  {
   "cell_type": "code",
   "execution_count": 109,
   "metadata": {},
   "outputs": [],
   "source": [
    "xxx = avg_grad(iteration_1(10,S),S,0.1)[1]\n",
    "tt = [abs(x)<= 0.01 for x in xxx]"
   ]
  },
  {
   "cell_type": "code",
   "execution_count": 112,
   "metadata": {},
   "outputs": [
    {
     "data": {
      "text/plain": [
       "([0.7, 1.0, 0.6, 0.9, 0.8, 0.7, 0.7],\n",
       " [False, False, False, False, False, False, False])"
      ]
     },
     "execution_count": 112,
     "metadata": {},
     "output_type": "execute_result"
    }
   ],
   "source": [
    "xxx,tt"
   ]
  },
  {
   "cell_type": "code",
   "execution_count": 104,
   "metadata": {},
   "outputs": [],
   "source": [
    "aa = [True,False]\n",
    "bb = [True,True,True,True,True,True,True]\n",
    "cc = [False,False]\n"
   ]
  },
  {
   "cell_type": "code",
   "execution_count": 108,
   "metadata": {},
   "outputs": [
    {
     "data": {
      "text/plain": [
       "True"
      ]
     },
     "execution_count": 108,
     "metadata": {},
     "output_type": "execute_result"
    }
   ],
   "source": [
    "bb==[True,True,True,True,True,True,True]"
   ]
  },
  {
   "cell_type": "code",
   "execution_count": 91,
   "metadata": {},
   "outputs": [
    {
     "data": {
      "text/plain": [
       "[True, True, True, True, True, True, True]"
      ]
     },
     "execution_count": 91,
     "metadata": {},
     "output_type": "execute_result"
    }
   ],
   "source": [
    "xxx = [1,1,1,1,1,2,0]\n",
    "tt = [abs(x)<= 1 for x in xxx]\n",
    "\n",
    "for i in range(len(tt)):\n",
    "    if tt[i] is False:\n",
    "        tt[i] = True\n",
    "tt"
   ]
  },
  {
   "cell_type": "code",
   "execution_count": 85,
   "metadata": {},
   "outputs": [
    {
     "data": {
      "text/plain": [
       "[True, True, True, True, True, False, True]"
      ]
     },
     "execution_count": 85,
     "metadata": {},
     "output_type": "execute_result"
    }
   ],
   "source": [
    "tt"
   ]
  },
  {
   "cell_type": "code",
   "execution_count": 80,
   "metadata": {},
   "outputs": [
    {
     "data": {
      "text/plain": [
       "[False, False, False, False, False, False, False]"
      ]
     },
     "execution_count": 80,
     "metadata": {},
     "output_type": "execute_result"
    }
   ],
   "source": [
    "[abs(x)<= 0.01 for x in Snew[1]]"
   ]
  },
  {
   "cell_type": "code",
   "execution_count": null,
   "metadata": {},
   "outputs": [],
   "source": []
  }
 ],
 "metadata": {
  "colab": {
   "collapsed_sections": [],
   "name": "533project2.ipynb",
   "provenance": []
  },
  "kernelspec": {
   "display_name": "Python 3",
   "language": "python",
   "name": "python3"
  },
  "language_info": {
   "codemirror_mode": {
    "name": "ipython",
    "version": 3
   },
   "file_extension": ".py",
   "mimetype": "text/x-python",
   "name": "python",
   "nbconvert_exporter": "python",
   "pygments_lexer": "ipython3",
   "version": "3.7.6"
  }
 },
 "nbformat": 4,
 "nbformat_minor": 4
}
