{
 "cells": [
  {
   "cell_type": "code",
   "execution_count": 1,
   "metadata": {},
   "outputs": [],
   "source": [
    "import numpy as np\n",
    "import pandas as pd\n",
    "import matplotlib.pyplot as plt\n",
    "import csv\n",
    "\n",
    "from sklearn.model_selection import train_test_split\n",
    "from sklearn.linear_model import Ridge,Lasso,RidgeCV,LassoCV\n",
    "from sklearn.metrics import mean_squared_error\n",
    "from sklearn.model_selection import KFold, cross_val_score\n",
    "from sklearn.tree import DecisionTreeRegressor\n",
    "from sklearn.ensemble import RandomForestRegressor\n",
    "from sklearn.linear_model import LinearRegression"
   ]
  },
  {
   "cell_type": "code",
   "execution_count": 2,
   "metadata": {},
   "outputs": [],
   "source": [
    "#first model "
   ]
  },
  {
   "cell_type": "code",
   "execution_count": 3,
   "metadata": {},
   "outputs": [],
   "source": [
    "df = pd.read_csv('Advertising1.csv')"
   ]
  },
  {
   "cell_type": "code",
   "execution_count": 4,
   "metadata": {},
   "outputs": [
    {
     "data": {
      "text/plain": [
       "(200, 5)"
      ]
     },
     "execution_count": 4,
     "metadata": {},
     "output_type": "execute_result"
    }
   ],
   "source": [
    "df.shape"
   ]
  },
  {
   "cell_type": "code",
   "execution_count": 5,
   "metadata": {},
   "outputs": [],
   "source": [
    "d0 = df.dropna()\n",
    "y = d0.Sales\n",
    "x = d0.iloc[:,1:3]"
   ]
  },
  {
   "cell_type": "code",
   "execution_count": 6,
   "metadata": {},
   "outputs": [
    {
     "data": {
      "text/html": [
       "<div>\n",
       "<style scoped>\n",
       "    .dataframe tbody tr th:only-of-type {\n",
       "        vertical-align: middle;\n",
       "    }\n",
       "\n",
       "    .dataframe tbody tr th {\n",
       "        vertical-align: top;\n",
       "    }\n",
       "\n",
       "    .dataframe thead th {\n",
       "        text-align: right;\n",
       "    }\n",
       "</style>\n",
       "<table border=\"1\" class=\"dataframe\">\n",
       "  <thead>\n",
       "    <tr style=\"text-align: right;\">\n",
       "      <th></th>\n",
       "      <th>TV</th>\n",
       "      <th>Radio</th>\n",
       "    </tr>\n",
       "  </thead>\n",
       "  <tbody>\n",
       "    <tr>\n",
       "      <th>0</th>\n",
       "      <td>230.1</td>\n",
       "      <td>37.8</td>\n",
       "    </tr>\n",
       "    <tr>\n",
       "      <th>1</th>\n",
       "      <td>44.5</td>\n",
       "      <td>39.3</td>\n",
       "    </tr>\n",
       "    <tr>\n",
       "      <th>2</th>\n",
       "      <td>17.2</td>\n",
       "      <td>45.9</td>\n",
       "    </tr>\n",
       "    <tr>\n",
       "      <th>3</th>\n",
       "      <td>151.5</td>\n",
       "      <td>41.3</td>\n",
       "    </tr>\n",
       "    <tr>\n",
       "      <th>4</th>\n",
       "      <td>180.8</td>\n",
       "      <td>10.8</td>\n",
       "    </tr>\n",
       "  </tbody>\n",
       "</table>\n",
       "</div>"
      ],
      "text/plain": [
       "      TV  Radio\n",
       "0  230.1   37.8\n",
       "1   44.5   39.3\n",
       "2   17.2   45.9\n",
       "3  151.5   41.3\n",
       "4  180.8   10.8"
      ]
     },
     "execution_count": 6,
     "metadata": {},
     "output_type": "execute_result"
    }
   ],
   "source": [
    "x[:5]"
   ]
  },
  {
   "cell_type": "code",
   "execution_count": 7,
   "metadata": {},
   "outputs": [],
   "source": [
    "train_pct_index = int(0.5*len(x))\n",
    "X_train, X_test = x[:train_pct_index], x[train_pct_index:]\n",
    "y_train, y_test = y[:train_pct_index], y[train_pct_index:]"
   ]
  },
  {
   "cell_type": "code",
   "execution_count": 8,
   "metadata": {},
   "outputs": [
    {
     "data": {
      "text/plain": [
       "(100, 2)"
      ]
     },
     "execution_count": 8,
     "metadata": {},
     "output_type": "execute_result"
    }
   ],
   "source": [
    "X_train.shape"
   ]
  },
  {
   "cell_type": "code",
   "execution_count": 9,
   "metadata": {},
   "outputs": [],
   "source": [
    "model = LinearRegression().fit(X_train.sort_index(),y_train.sort_index())"
   ]
  },
  {
   "cell_type": "code",
   "execution_count": 10,
   "metadata": {},
   "outputs": [
    {
     "data": {
      "text/plain": [
       "(3.146986251809624, array([0.04585391, 0.18412361]))"
      ]
     },
     "execution_count": 10,
     "metadata": {},
     "output_type": "execute_result"
    }
   ],
   "source": [
    "model.intercept_,model.coef_"
   ]
  },
  {
   "cell_type": "code",
   "execution_count": 11,
   "metadata": {},
   "outputs": [],
   "source": [
    "b0 = model.intercept_\n",
    "b1=model.coef_[0]\n",
    "b2=model.coef_[1]\n",
    "X_train = X_train.sort_index()\n",
    "y_train = y_train.sort_index()"
   ]
  },
  {
   "cell_type": "code",
   "execution_count": 12,
   "metadata": {},
   "outputs": [],
   "source": [
    "with open('data.csv', 'w', newline='') as file:\n",
    "    writer = csv.writer(file)\n",
    "    writer.writerow(['error'])\n",
    "    for i in range(len(y_test.index)):\n",
    "        pos = y_test.index[i]\n",
    "        est = b0+b1*X_test.TV[pos]+b2*X_test.Radio[pos]\n",
    "        error = est-y_test[pos]\n",
    "        writer.writerow([error])\n"
   ]
  },
  {
   "cell_type": "code",
   "execution_count": 13,
   "metadata": {},
   "outputs": [],
   "source": [
    "residual_test = []\n",
    "for i in range(len(y_test.index)):\n",
    "    pos = y_test.index[i]\n",
    "    est = b0+b1*X_test.TV[pos]+b2*X_test.Radio[pos]\n",
    "    error = est-y_test[pos]\n",
    "    residual_test.append(error)    "
   ]
  },
  {
   "cell_type": "code",
   "execution_count": 14,
   "metadata": {},
   "outputs": [
    {
     "data": {
      "text/plain": [
       "[2.4366279726648816,\n",
       " -0.37822691248639373,\n",
       " 3.0549010759514346,\n",
       " 0.2298625738962521,\n",
       " -0.31517185657442326]"
      ]
     },
     "execution_count": 14,
     "metadata": {},
     "output_type": "execute_result"
    }
   ],
   "source": [
    "residual_test[:5]"
   ]
  },
  {
   "cell_type": "code",
   "execution_count": 15,
   "metadata": {},
   "outputs": [],
   "source": [
    "residual_train = []\n",
    "for i in range(len(y_train.index)):\n",
    "    pos = y_train.index[i]\n",
    "    est = b0+b1*X_train.TV[pos]+b2*X_train.Radio[pos]\n",
    "    error = est-y_train[pos]\n",
    "    residual_train.append(error)    "
   ]
  },
  {
   "cell_type": "code",
   "execution_count": 16,
   "metadata": {
    "scrolled": true
   },
   "outputs": [
    {
     "data": {
      "image/png": "[encoded data removed]",
      "text/plain": [
       "<Figure size 432x288 with 1 Axes>"
      ]
     },
     "metadata": {
      "needs_background": "light"
     },
     "output_type": "display_data"
    }
   ],
   "source": [
    "plt.figure()\n",
    "plt.scatter(np.sort(residual_train), np.sort(residual_test))\n",
    "plt.xlabel(\"residual_train\")\n",
    "plt.ylabel(\"residual_test\")\n",
    "x = np.linspace(-2,10,100)\n",
    "y=x\n",
    "plt.plot(x,y,'-r')\n",
    "plt.show()"
   ]
  },
  {
   "cell_type": "code",
   "execution_count": 17,
   "metadata": {},
   "outputs": [],
   "source": [
    "#chi sqaure test 2 sample"
   ]
  },
  {
   "cell_type": "code",
   "execution_count": 18,
   "metadata": {},
   "outputs": [],
   "source": [
    "from scipy import stats"
   ]
  },
  {
   "cell_type": "code",
   "execution_count": 19,
   "metadata": {},
   "outputs": [],
   "source": [
    "from scipy.stats import chi2_contingency"
   ]
  },
  {
   "cell_type": "code",
   "execution_count": 20,
   "metadata": {},
   "outputs": [],
   "source": [
    "residual_train = np.array(residual_train)"
   ]
  },
  {
   "cell_type": "code",
   "execution_count": 21,
   "metadata": {},
   "outputs": [],
   "source": [
    "residual_test = np.array(residual_test)"
   ]
  },
  {
   "cell_type": "code",
   "execution_count": 22,
   "metadata": {},
   "outputs": [
    {
     "data": {
      "text/plain": [
       "(9900.000000000004,\n",
       " 0.23900787924979455,\n",
       " 9801,\n",
       " array([[0.01, 0.01, 0.01, ..., 0.01, 0.01, 0.01],\n",
       "        [0.01, 0.01, 0.01, ..., 0.01, 0.01, 0.01],\n",
       "        [0.01, 0.01, 0.01, ..., 0.01, 0.01, 0.01],\n",
       "        ...,\n",
       "        [0.01, 0.01, 0.01, ..., 0.01, 0.01, 0.01],\n",
       "        [0.01, 0.01, 0.01, ..., 0.01, 0.01, 0.01],\n",
       "        [0.01, 0.01, 0.01, ..., 0.01, 0.01, 0.01]]))"
      ]
     },
     "execution_count": 22,
     "metadata": {},
     "output_type": "execute_result"
    }
   ],
   "source": [
    "chi2_contingency(pd.crosstab(residual_train,residual_test))"
   ]
  },
  {
   "cell_type": "code",
   "execution_count": 23,
   "metadata": {},
   "outputs": [],
   "source": [
    "#p value is 0.2390078"
   ]
  },
  {
   "cell_type": "code",
   "execution_count": 24,
   "metadata": {},
   "outputs": [],
   "source": [
    "#calculate r sqaure"
   ]
  },
  {
   "cell_type": "code",
   "execution_count": 25,
   "metadata": {},
   "outputs": [],
   "source": [
    "from sklearn.metrics import r2_score"
   ]
  },
  {
   "cell_type": "code",
   "execution_count": 26,
   "metadata": {},
   "outputs": [],
   "source": [
    "ypred = model.predict(X_test)"
   ]
  },
  {
   "cell_type": "code",
   "execution_count": 27,
   "metadata": {},
   "outputs": [
    {
     "data": {
      "text/plain": [
       "0.8822622227669648"
      ]
     },
     "execution_count": 27,
     "metadata": {},
     "output_type": "execute_result"
    }
   ],
   "source": [
    "r2_score(y_test,ypred)"
   ]
  },
  {
   "cell_type": "code",
   "execution_count": 28,
   "metadata": {},
   "outputs": [],
   "source": [
    "#drop outliers"
   ]
  },
  {
   "cell_type": "code",
   "execution_count": 29,
   "metadata": {},
   "outputs": [],
   "source": [
    "outliers=[]\n",
    "def detect_outlier(data_1):\n",
    "    \n",
    "    threshold=3\n",
    "    mean_1 = np.mean(data_1)\n",
    "    std_1 =np.std(data_1)\n",
    "    \n",
    "    \n",
    "    for y in data_1:\n",
    "        z_score= (y - mean_1)/std_1 \n",
    "        if np.abs(z_score) > threshold:\n",
    "            outliers.append(y)\n",
    "    return outliers"
   ]
  },
  {
   "cell_type": "code",
   "execution_count": 30,
   "metadata": {},
   "outputs": [
    {
     "data": {
      "text/plain": [
       "[8.870379012265394]"
      ]
     },
     "execution_count": 30,
     "metadata": {},
     "output_type": "execute_result"
    }
   ],
   "source": [
    "outlier_test = detect_outlier(residual_test)\n",
    "outlier_test"
   ]
  },
  {
   "cell_type": "code",
   "execution_count": 31,
   "metadata": {},
   "outputs": [
    {
     "data": {
      "text/plain": [
       "[8.870379012265394, 5.349559902483892]"
      ]
     },
     "execution_count": 31,
     "metadata": {},
     "output_type": "execute_result"
    }
   ],
   "source": [
    "detect_outlier(residual_train)"
   ]
  },
  {
   "cell_type": "code",
   "execution_count": 32,
   "metadata": {},
   "outputs": [],
   "source": [
    "index_test= np.where(residual_test == 8.870379012265394)"
   ]
  },
  {
   "cell_type": "code",
   "execution_count": 33,
   "metadata": {},
   "outputs": [
    {
     "data": {
      "text/plain": [
       "(array([30]),)"
      ]
     },
     "execution_count": 33,
     "metadata": {},
     "output_type": "execute_result"
    }
   ],
   "source": [
    "index_test"
   ]
  },
  {
   "cell_type": "code",
   "execution_count": 34,
   "metadata": {},
   "outputs": [
    {
     "data": {
      "text/plain": [
       "(array([], dtype=int64),)"
      ]
     },
     "execution_count": 34,
     "metadata": {},
     "output_type": "execute_result"
    }
   ],
   "source": [
    "index_train= np.where(residual_train == 5.3495599024838905)\n",
    "index_train"
   ]
  },
  {
   "cell_type": "code",
   "execution_count": 35,
   "metadata": {},
   "outputs": [],
   "source": [
    "# Get new dataset N = 99\n",
    "# validation set drop row 29\n",
    "# train set drop row 4"
   ]
  },
  {
   "cell_type": "code",
   "execution_count": 36,
   "metadata": {},
   "outputs": [],
   "source": [
    "#set up new X and Y \n",
    "X_newtrain = X_train.drop(X_train.index[5])\n",
    "X_newtest = X_test.drop(X_test.index[30])\n",
    "y_newtrain = y_train.drop(y_train.index[5])\n",
    "y_newtest = y_test.drop(y_test.index[30])"
   ]
  },
  {
   "cell_type": "code",
   "execution_count": 37,
   "metadata": {},
   "outputs": [],
   "source": [
    "# fit new model"
   ]
  },
  {
   "cell_type": "code",
   "execution_count": 38,
   "metadata": {},
   "outputs": [
    {
     "data": {
      "text/plain": [
       "(3.2079910207355393, array([0.04457953, 0.19154688]))"
      ]
     },
     "execution_count": 38,
     "metadata": {},
     "output_type": "execute_result"
    }
   ],
   "source": [
    "model2 = LinearRegression().fit(X_newtrain.sort_index(),y_newtrain.sort_index())\n",
    "model2.intercept_,model2.coef_"
   ]
  },
  {
   "cell_type": "code",
   "execution_count": 39,
   "metadata": {},
   "outputs": [],
   "source": [
    "b00 = model2.intercept_\n",
    "b11=model2.coef_[0]\n",
    "b22=model2.coef_[1]\n",
    "X_newtrain = X_newtrain.sort_index()\n",
    "y_newtrain = y_newtrain.sort_index()"
   ]
  },
  {
   "cell_type": "code",
   "execution_count": 40,
   "metadata": {},
   "outputs": [],
   "source": [
    "with open('data1.csv', 'w', newline='') as file:\n",
    "    writer = csv.writer(file)\n",
    "    writer.writerow(['error'])\n",
    "    for i in range(len(y_newtest.index)):\n",
    "        pos = y_newtest.index[i]\n",
    "        est = b00+b11*X_newtest.TV[pos]+b22*X_newtest.Radio[pos]\n",
    "        error = est-y_newtest[pos]\n",
    "        writer.writerow([error])"
   ]
  },
  {
   "cell_type": "code",
   "execution_count": 41,
   "metadata": {},
   "outputs": [],
   "source": [
    "residual_test2 = []\n",
    "for i in range(len(y_newtest.index)):\n",
    "    pos = y_newtest.index[i]\n",
    "    est = b00+b11*X_newtest.TV[pos]+b22*X_newtest.Radio[pos]\n",
    "    error = est-y_newtest[pos]\n",
    "    residual_test2.append(error)   "
   ]
  },
  {
   "cell_type": "code",
   "execution_count": 42,
   "metadata": {},
   "outputs": [
    {
     "data": {
      "text/plain": [
       "[2.2461310260139165,\n",
       " -0.42548324004875226,\n",
       " 2.833800016556829,\n",
       " 0.17909186265681143,\n",
       " -0.30310589555568157]"
      ]
     },
     "execution_count": 42,
     "metadata": {},
     "output_type": "execute_result"
    }
   ],
   "source": [
    "residual_test2[:5]"
   ]
  },
  {
   "cell_type": "code",
   "execution_count": 43,
   "metadata": {},
   "outputs": [],
   "source": [
    "residual_train2 = []\n",
    "for i in range(len(y_newtrain.index)):\n",
    "    pos = y_newtrain.index[i]\n",
    "    est = b00+b11*X_newtrain.TV[pos]+b22*X_newtrain.Radio[pos]\n",
    "    error = est-y_newtrain[pos]\n",
    "    residual_train2.append(error)    "
   ]
  },
  {
   "cell_type": "code",
   "execution_count": 44,
   "metadata": {},
   "outputs": [
    {
     "data": {
      "text/plain": [
       "[-1.3937860385741558,\n",
       " 2.3195727275610754,\n",
       " 3.466760858914638,\n",
       " -0.627323345812453,\n",
       " 0.4366771295500911]"
      ]
     },
     "execution_count": 44,
     "metadata": {},
     "output_type": "execute_result"
    }
   ],
   "source": [
    "residual_train2[:5]"
   ]
  },
  {
   "cell_type": "code",
   "execution_count": 45,
   "metadata": {},
   "outputs": [
    {
     "data": {
      "image/png": "[encoded data removed]",
      "text/plain": [
       "<Figure size 432x288 with 1 Axes>"
      ]
     },
     "metadata": {
      "needs_background": "light"
     },
     "output_type": "display_data"
    }
   ],
   "source": [
    "plt.figure()\n",
    "plt.scatter(np.sort(residual_train2), np.sort(residual_test2))\n",
    "plt.xlabel(\"residual_newtrain\")\n",
    "plt.ylabel(\"residual_newtest\")\n",
    "x = np.linspace(-2,10,100)\n",
    "y=x\n",
    "plt.plot(x,y,'-r')\n",
    "plt.show()"
   ]
  },
  {
   "cell_type": "code",
   "execution_count": 46,
   "metadata": {},
   "outputs": [],
   "source": [
    "# perfrom chi square test"
   ]
  },
  {
   "cell_type": "code",
   "execution_count": 47,
   "metadata": {},
   "outputs": [],
   "source": [
    "residual_train2 = np.array(residual_train2)\n",
    "residual_test2 = np.array(residual_test2)"
   ]
  },
  {
   "cell_type": "code",
   "execution_count": 48,
   "metadata": {},
   "outputs": [
    {
     "data": {
      "text/plain": [
       "(9702.0,\n",
       " 0.23900028080212044,\n",
       " 9604,\n",
       " array([[0.01010101, 0.01010101, 0.01010101, ..., 0.01010101, 0.01010101,\n",
       "         0.01010101],\n",
       "        [0.01010101, 0.01010101, 0.01010101, ..., 0.01010101, 0.01010101,\n",
       "         0.01010101],\n",
       "        [0.01010101, 0.01010101, 0.01010101, ..., 0.01010101, 0.01010101,\n",
       "         0.01010101],\n",
       "        ...,\n",
       "        [0.01010101, 0.01010101, 0.01010101, ..., 0.01010101, 0.01010101,\n",
       "         0.01010101],\n",
       "        [0.01010101, 0.01010101, 0.01010101, ..., 0.01010101, 0.01010101,\n",
       "         0.01010101],\n",
       "        [0.01010101, 0.01010101, 0.01010101, ..., 0.01010101, 0.01010101,\n",
       "         0.01010101]]))"
      ]
     },
     "execution_count": 48,
     "metadata": {},
     "output_type": "execute_result"
    }
   ],
   "source": [
    "chi2_contingency(pd.crosstab(residual_train2,residual_test2)) # pvalue is smaller"
   ]
  },
  {
   "cell_type": "code",
   "execution_count": 49,
   "metadata": {},
   "outputs": [],
   "source": [
    "ypred2 = model2.predict(X_newtest)"
   ]
  },
  {
   "cell_type": "code",
   "execution_count": 50,
   "metadata": {},
   "outputs": [
    {
     "data": {
      "text/plain": [
       "0.9072059622016705"
      ]
     },
     "execution_count": 50,
     "metadata": {},
     "output_type": "execute_result"
    }
   ],
   "source": [
    "r2_score(y_newtest,ypred2)"
   ]
  },
  {
   "cell_type": "code",
   "execution_count": 51,
   "metadata": {},
   "outputs": [],
   "source": [
    "# third model remove more ouliers\n",
    "outliers2=[]\n",
    "def detect_outlier2(data_1):\n",
    "    \n",
    "    threshold=1.96\n",
    "    mean_1 = np.mean(data_1)\n",
    "    std_1 =np.std(data_1)\n",
    "    \n",
    "    \n",
    "    for y in data_1:\n",
    "        z_score= (y - mean_1)/std_1 \n",
    "        if np.abs(z_score) > threshold:\n",
    "            outliers2.append(y)\n",
    "    return outliers2"
   ]
  },
  {
   "cell_type": "code",
   "execution_count": 52,
   "metadata": {},
   "outputs": [
    {
     "data": {
      "text/plain": [
       "[3.0869473257074524,\n",
       " 5.349559902483892,\n",
       " 3.8464125488303047,\n",
       " 4.431625489665663,\n",
       " 3.155593302236259,\n",
       " 3.2681192062475652,\n",
       " 3.5998933690321637]"
      ]
     },
     "execution_count": 52,
     "metadata": {},
     "output_type": "execute_result"
    }
   ],
   "source": [
    "detect_outlier2(residual_train)"
   ]
  },
  {
   "cell_type": "code",
   "execution_count": 53,
   "metadata": {},
   "outputs": [],
   "source": [
    "#index 2,5,25,35,56,75,78 from train neeed to be removed"
   ]
  },
  {
   "cell_type": "code",
   "execution_count": 54,
   "metadata": {},
   "outputs": [],
   "source": [
    "#index 2,26,30,31,58,69,78 from test need to be removed"
   ]
  },
  {
   "cell_type": "code",
   "execution_count": 55,
   "metadata": {},
   "outputs": [],
   "source": [
    "#remove outlier for model3\n",
    "X_train3 = X_train.drop(X_train.index[[2,5,25,35,56,75,78]])\n",
    "X_test3 = X_test.drop(X_test.index[[2,26,30,31,58,69,78]])\n",
    "y_train3 = y_train.drop(y_train.index[[2,5,25,35,56,75,78]])\n",
    "y_test3 = y_test.drop(y_test.index[[2,26,30,31,58,69,78]])"
   ]
  },
  {
   "cell_type": "code",
   "execution_count": 56,
   "metadata": {},
   "outputs": [
    {
     "data": {
      "text/plain": [
       "(3.6557928921639267, array([0.04256215, 0.1954805 ]))"
      ]
     },
     "execution_count": 56,
     "metadata": {},
     "output_type": "execute_result"
    }
   ],
   "source": [
    "model3 = LinearRegression().fit(X_train3.sort_index(),y_train3.sort_index())\n",
    "model3.intercept_,model3.coef_"
   ]
  },
  {
   "cell_type": "code",
   "execution_count": 57,
   "metadata": {},
   "outputs": [],
   "source": [
    "b000 = model3.intercept_\n",
    "b111=model3.coef_[0]\n",
    "b222=model3.coef_[1]\n",
    "X_train3 = X_train3.sort_index()\n",
    "y_train3 = y_train3.sort_index()"
   ]
  },
  {
   "cell_type": "code",
   "execution_count": 58,
   "metadata": {},
   "outputs": [],
   "source": [
    "with open('data2.csv', 'w', newline='') as file:\n",
    "    writer = csv.writer(file)\n",
    "    writer.writerow(['error'])\n",
    "    for i in range(len(y_test3.index)):\n",
    "        pos = y_test3.index[i]\n",
    "        est = b000+b111*X_test3.TV[pos]+b222*X_test3.Radio[pos]\n",
    "        error = est-y_test3[pos]\n",
    "        writer.writerow([error])"
   ]
  },
  {
   "cell_type": "code",
   "execution_count": 59,
   "metadata": {},
   "outputs": [],
   "source": [
    "residual_test3 = []\n",
    "for i in range(len(y_test3.index)):\n",
    "    pos = y_test3.index[i]\n",
    "    est = b000+b111*X_test3.TV[pos]+b222*X_test3.Radio[pos]\n",
    "    error = est-y_test3[pos]\n",
    "    residual_test3.append(error)  "
   ]
  },
  {
   "cell_type": "code",
   "execution_count": 60,
   "metadata": {},
   "outputs": [],
   "source": [
    "residual_train3 = []\n",
    "for i in range(len(y_train3.index)):\n",
    "    pos = y_train3.index[i]\n",
    "    est = b000+b111*X_train3.TV[pos]+b222*X_train3.Radio[pos]\n",
    "    error = est-y_train3[pos]\n",
    "    residual_train3.append(error)  "
   ]
  },
  {
   "cell_type": "code",
   "execution_count": 61,
   "metadata": {},
   "outputs": [
    {
     "data": {
      "image/png": "[encoded data removed]",
      "text/plain": [
       "<Figure size 432x288 with 1 Axes>"
      ]
     },
     "metadata": {
      "needs_background": "light"
     },
     "output_type": "display_data"
    }
   ],
   "source": [
    "plt.figure()\n",
    "plt.scatter(np.sort(residual_train3), np.sort(residual_test3))\n",
    "plt.xlabel(\"residual_newtrain\")\n",
    "plt.ylabel(\"residual_newtest\")\n",
    "x = np.linspace(-2,10,100)\n",
    "y=x\n",
    "plt.plot(x,y,'-r')\n",
    "plt.show()"
   ]
  },
  {
   "cell_type": "code",
   "execution_count": 62,
   "metadata": {},
   "outputs": [],
   "source": [
    "residual_train3 = np.array(residual_train3)\n",
    "residual_test3 = np.array(residual_test3)"
   ]
  },
  {
   "cell_type": "code",
   "execution_count": 63,
   "metadata": {},
   "outputs": [
    {
     "data": {
      "text/plain": [
       "(8556.000000000002,\n",
       " 0.23895120915323623,\n",
       " 8464,\n",
       " array([[0.01075269, 0.01075269, 0.01075269, ..., 0.01075269, 0.01075269,\n",
       "         0.01075269],\n",
       "        [0.01075269, 0.01075269, 0.01075269, ..., 0.01075269, 0.01075269,\n",
       "         0.01075269],\n",
       "        [0.01075269, 0.01075269, 0.01075269, ..., 0.01075269, 0.01075269,\n",
       "         0.01075269],\n",
       "        ...,\n",
       "        [0.01075269, 0.01075269, 0.01075269, ..., 0.01075269, 0.01075269,\n",
       "         0.01075269],\n",
       "        [0.01075269, 0.01075269, 0.01075269, ..., 0.01075269, 0.01075269,\n",
       "         0.01075269],\n",
       "        [0.01075269, 0.01075269, 0.01075269, ..., 0.01075269, 0.01075269,\n",
       "         0.01075269]]))"
      ]
     },
     "execution_count": 63,
     "metadata": {},
     "output_type": "execute_result"
    }
   ],
   "source": [
    "chi2_contingency(pd.crosstab(residual_train3,residual_test3))"
   ]
  },
  {
   "cell_type": "code",
   "execution_count": 64,
   "metadata": {},
   "outputs": [],
   "source": [
    "ypred3 = model3.predict(X_test3)"
   ]
  },
  {
   "cell_type": "code",
   "execution_count": 65,
   "metadata": {},
   "outputs": [
    {
     "data": {
      "text/plain": [
       "0.9289808103328375"
      ]
     },
     "execution_count": 65,
     "metadata": {},
     "output_type": "execute_result"
    }
   ],
   "source": [
    "r2_score(y_test3,ypred3)"
   ]
  },
  {
   "cell_type": "code",
   "execution_count": 66,
   "metadata": {},
   "outputs": [],
   "source": [
    "# two sample K-s test"
   ]
  },
  {
   "cell_type": "code",
   "execution_count": 67,
   "metadata": {},
   "outputs": [],
   "source": [
    "from scipy.stats import ks_2samp"
   ]
  },
  {
   "cell_type": "code",
   "execution_count": 68,
   "metadata": {},
   "outputs": [
    {
     "data": {
      "text/plain": [
       "Ks_2sampResult(statistic=0.13, pvalue=0.36818778606286096)"
      ]
     },
     "execution_count": 68,
     "metadata": {},
     "output_type": "execute_result"
    }
   ],
   "source": [
    "ks_2samp(residual_train,residual_test)   #model1"
   ]
  },
  {
   "cell_type": "code",
   "execution_count": 69,
   "metadata": {},
   "outputs": [
    {
     "data": {
      "text/plain": [
       "Ks_2sampResult(statistic=0.12121212121212122, pvalue=0.4630101136905197)"
      ]
     },
     "execution_count": 69,
     "metadata": {},
     "output_type": "execute_result"
    }
   ],
   "source": [
    "ks_2samp(residual_train2,residual_test2)#model2"
   ]
  },
  {
   "cell_type": "code",
   "execution_count": 70,
   "metadata": {},
   "outputs": [
    {
     "data": {
      "text/plain": [
       "Ks_2sampResult(statistic=0.11827956989247312, pvalue=0.535898476863694)"
      ]
     },
     "execution_count": 70,
     "metadata": {},
     "output_type": "execute_result"
    }
   ],
   "source": [
    "ks_2samp(residual_train3,residual_test3)#model3"
   ]
  },
  {
   "cell_type": "code",
   "execution_count": 71,
   "metadata": {},
   "outputs": [],
   "source": [
    "# so based on r square and 2 sample chi square test as well as 2 sample K-S test, we fail to reject the hypothesis which residual error of \n",
    "# training set and error of validation set are from same distribution so we can move on.\n"
   ]
  },
  {
   "cell_type": "code",
   "execution_count": 72,
   "metadata": {},
   "outputs": [],
   "source": [
    "# final parameter we choose is (3.6557928921639267, array([0.04256215, 0.1954805 ]))."
   ]
  },
  {
   "cell_type": "code",
   "execution_count": 73,
   "metadata": {},
   "outputs": [],
   "source": [
    "#3.2079910207355393, array([0.04457953, 0.19154688]"
   ]
  },
  {
   "cell_type": "code",
   "execution_count": 74,
   "metadata": {},
   "outputs": [],
   "source": [
    "# (3.1469862518096257, array([0.04585391, 0.18412361]))"
   ]
  },
  {
   "cell_type": "markdown",
   "metadata": {},
   "source": [
    "# get 95% Confidence Interval"
   ]
  },
  {
   "cell_type": "code",
   "execution_count": 75,
   "metadata": {},
   "outputs": [],
   "source": [
    "#MPO is 50441.5266."
   ]
  },
  {
   "cell_type": "code",
   "execution_count": 76,
   "metadata": {},
   "outputs": [],
   "source": [
    "#calculate the profit in validation set"
   ]
  },
  {
   "cell_type": "code",
   "execution_count": 88,
   "metadata": {},
   "outputs": [],
   "source": [
    "profit1 = [] \n",
    "for i in range(len(y_test.index)):\n",
    "    pos = y_test.index[i]\n",
    "    est = 0.5*9.92+0.2*49.6+(b0+b1*X_test.TV[pos]+b2*X_test.Radio[pos]+residual_test[i])\n",
    "    profit1.append(est)"
   ]
  },
  {
   "cell_type": "code",
   "execution_count": 89,
   "metadata": {},
   "outputs": [
    {
     "data": {
      "text/plain": [
       "[31.453255945329765,\n",
       " 37.92354617502721,\n",
       " 35.789802151902876,\n",
       " 30.039725147792506,\n",
       " 34.94965628685115,\n",
       " 31.707152795642617,\n",
       " 20.317387596440632,\n",
       " 20.874834091859714,\n",
       " 17.22264390642063,\n",
       " 34.70200143220208,\n",
       " 31.501226722791692,\n",
       " 35.53314840219663,\n",
       " 28.8580446752672,\n",
       " 32.081825519449076,\n",
       " 30.97949450522711,\n",
       " 28.349883011249837,\n",
       " 27.005637100471688,\n",
       " 19.075048147127056,\n",
       " 30.389968703627176,\n",
       " 22.245059890437524,\n",
       " 28.501313825309964,\n",
       " 23.889044368033083,\n",
       " 31.00031874177003,\n",
       " 30.00455974382692,\n",
       " 34.41530375876074,\n",
       " 22.916212118469318,\n",
       " 29.614110528953063,\n",
       " 19.728940105212576,\n",
       " 34.72132039384681,\n",
       " 21.358725580538188,\n",
       " 34.22075802453079,\n",
       " 33.8628047622238,\n",
       " 26.26064271149506,\n",
       " 34.06763451980735,\n",
       " 27.972334082737568,\n",
       " 31.31107996874654,\n",
       " 28.383334544405812,\n",
       " 36.11674908467275,\n",
       " 25.055012081978674,\n",
       " 33.59680253381157,\n",
       " 23.265529688386835,\n",
       " 32.77372999968833,\n",
       " 33.521355830633624,\n",
       " 22.465620219215033,\n",
       " 24.046324217507028,\n",
       " 24.440250139424535,\n",
       " 32.68122612583707,\n",
       " 36.12142959679553,\n",
       " 28.59923297036716,\n",
       " 24.674090662923305,\n",
       " 35.93499551321056,\n",
       " 23.76389605963606,\n",
       " 31.275599116911863,\n",
       " 32.5029377697025,\n",
       " 30.566718536157467,\n",
       " 22.62164237839071,\n",
       " 30.504091527966292,\n",
       " 25.290526147272914,\n",
       " 28.535276601611724,\n",
       " 27.12764202512229,\n",
       " 29.258847136745224,\n",
       " 28.916583739734687,\n",
       " 30.217001561500012,\n",
       " 31.719699783543362,\n",
       " 25.435363829757776,\n",
       " 32.03149813237133,\n",
       " 28.661638175757922,\n",
       " 29.854036369191228,\n",
       " 32.5184725770267,\n",
       " 36.149927847928815,\n",
       " 21.631031566833776,\n",
       " 29.456276758364154,\n",
       " 22.773215071101454,\n",
       " 27.532125595960007,\n",
       " 31.3218334443504,\n",
       " 37.57515859234098,\n",
       " 34.8752624909325,\n",
       " 27.954972738098586,\n",
       " 35.59649642098472,\n",
       " 27.443260632282616,\n",
       " 25.992860750679114,\n",
       " 31.000667371691737,\n",
       " 19.72696146713128,\n",
       " 37.18377370719173,\n",
       " 34.69308446093376,\n",
       " 33.982026493455194,\n",
       " 24.440533323721596,\n",
       " 31.968033257322272,\n",
       " 36.621046988128825,\n",
       " 20.644700241707543,\n",
       " 29.131392487199907,\n",
       " 22.174983337320484,\n",
       " 18.361160717039866,\n",
       " 32.33722116876319,\n",
       " 30.71223512427426,\n",
       " 18.4397261622975,\n",
       " 21.917261055821438,\n",
       " 28.030956786166875,\n",
       " 37.14869518205622,\n",
       " 32.22628491249039]"
      ]
     },
     "execution_count": 89,
     "metadata": {},
     "output_type": "execute_result"
    }
   ],
   "source": [
    "profit1"
   ]
  },
  {
   "cell_type": "code",
   "execution_count": 85,
   "metadata": {},
   "outputs": [
    {
     "data": {
      "text/plain": [
       "100    222.4\n",
       "101    296.4\n",
       "102    280.2\n",
       "103    187.9\n",
       "104    238.2\n",
       "       ...  \n",
       "195     38.2\n",
       "196     94.2\n",
       "197    177.0\n",
       "198    283.6\n",
       "199    232.1\n",
       "Name: TV, Length: 100, dtype: float64"
      ]
     },
     "execution_count": 85,
     "metadata": {},
     "output_type": "execute_result"
    }
   ],
   "source": [
    "profit2 = []\n",
    "for i in range(len(y_test.index)):\n",
    "    pos = y_test.index[i]\n",
    "    est = 0.5*9.92+0.2*49.6+(b0+b1*X_test.TV[pos]+b2*X_test.Radio[pos]+residual_test[i])/100\n",
    "    profit1.append(est)"
   ]
  },
  {
   "cell_type": "code",
   "execution_count": null,
   "metadata": {},
   "outputs": [],
   "source": []
  }
 ],
 "metadata": {
  "kernelspec": {
   "display_name": "Python 3",
   "language": "python",
   "name": "python3"
  },
  "language_info": {
   "codemirror_mode": {
    "name": "ipython",
    "version": 3
   },
   "file_extension": ".py",
   "mimetype": "text/x-python",
   "name": "python",
   "nbconvert_exporter": "python",
   "pygments_lexer": "ipython3",
   "version": "3.7.6"
  }
 },
 "nbformat": 4,
 "nbformat_minor": 2
}
