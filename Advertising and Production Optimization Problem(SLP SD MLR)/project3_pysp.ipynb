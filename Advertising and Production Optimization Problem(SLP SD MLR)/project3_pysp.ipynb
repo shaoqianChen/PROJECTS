{
 "cells": [
  {
   "cell_type": "code",
   "execution_count": 10,
   "metadata": {},
   "outputs": [],
   "source": [
    "import itertools\n",
    "import random\n",
    "import pandas as pd\n",
    "from pyomo.core import *\n",
    "from pyomo.pysp.annotations import  PySP_ConstraintStageAnnotation\n",
    "from pyomo.pysp.annotations import  PySP_StochasticRHSAnnotation\n"
   ]
  },
  {
   "cell_type": "code",
   "execution_count": 23,
   "metadata": {},
   "outputs": [],
   "source": [
    "i = 0\n",
    "d1_rhs_table = []\n",
    "f = ''.join(open(\"data.csv\").readlines())\n",
    "d1_rhs_table = f.split(',')\n",
    "\n",
    "num_scenarios = len(d1_rhs_table)\n",
    "scenario_data = dict(('Scenario'+str(i),(d1val)) for i,(d1val) in enumerate(d1_rhs_table,1))"
   ]
  },
  {
   "cell_type": "code",
   "execution_count": 24,
   "metadata": {},
   "outputs": [
    {
     "name": "stdout",
     "output_type": "stream",
     "text": [
      "WARNING: DEPRECATED: 'PySP_ConstraintStageAnnotation' is no longer recognized\n",
      "    (constraint stages are automatically inferred). It will be removed in the\n",
      "    future. Please update your model file.\n",
      "WARNING: DEPRECATED: 'PySP_StochasticRHSAnnotation' has been renamed to\n",
      "    'StochasticConstraintBoundsAnnotation'. Please update your model file.\n"
     ]
    }
   ],
   "source": [
    "#Define the reference model\n",
    "\n",
    "model = ConcreteModel()\n",
    "\n",
    "model.constraint_stage = PySP_ConstraintStageAnnotation()\n",
    "model.stoch_rhs = PySP_StochasticRHSAnnotation()\n",
    "\n",
    "model.d1_rhs = Param(mutable = True, initialize = 0.0)\n",
    "\n",
    "#first-stage variables\n",
    "model.x1 = Var(bounds=(0.7,296.4))\n",
    "model.x2 = Var(bounds=(0,49.6))\n",
    "\n",
    "#second-stage variables\n",
    "model.y1 = Var(within = NonNegativeReals)\n",
    "model.y2 = Var(within = NonNegativeReals)\n",
    "\n",
    "#Stage-cost expressions\n",
    "model.FirstStageCost = Expression(initialize = (0.5*model.x1+0.2*model.x2))\n",
    "model.SecondStageCost = Expression(initialize = (3*model.y1 + 5*model.y2))\n",
    "\n",
    "\n",
    "# This model has two first-stage constraints\n",
    "\n",
    "model.s1 = Constraint(expr = model.x1 + model.x2 <= 0)\n",
    "model.constraint_stage.declare(model.s1,1)\n",
    "\n",
    "model.s2 = Constraint(expr = model.x1 + model.x2 <= 200)\n",
    "model.constraint_stage.declare(model.s2,1)\n",
    "\n",
    "model.s3 = Constraint(expr = model.x1 + 0.7*model.x2 <= 0)\n",
    "model.constraint_stage.declare(model.s3,1)\n",
    "\n",
    "#this model has four second-stage constraints\n",
    "\n",
    "model.s4 = Constraint(expr = model.y1 <=8)\n",
    "model.constraint_stage.declare(model.s4,2)\n",
    "\n",
    "model.s5 = Constraint(expr = 2*model.y2 <=24)\n",
    "model.constraint_stage.declare(model.s5,2)\n",
    "\n",
    "model.s6 = Constraint(expr = 3*model.y1+2*model.y2 <=36)\n",
    "model.constraint_stage.declare(model.s6,2)\n",
    "\n",
    "#These one constraints have stochastic right-hand-sides\n",
    "model.d1 = Constraint(expr=3.146986251809624 + 0.04585391*model.x1+0.18412361*model.x2-model.y1-model.y2 >=-2.4366279726648816)\n",
    "model.constraint_stage.declare(model.d1,2)\n",
    "model.stoch_rhs.declare(model.d1)\n",
    "\n",
    "#always define the objective as the sum of the stage costs\n",
    "model.obj = Objective(expr=model.FirstStageCost + model.SecondStageCost)\n",
    "\n",
    "def pysp_scenario_tree_model_callback():\n",
    "    from pyomo.pysp.scenariotree.tree_structure_model import CreateConcreteTwoStageScenarioTreeModel\n",
    "    st_model = CreateConcreteTwoStageScenarioTreeModel(num_scenarios)\n",
    "    \n",
    "    first_stage = st_model.Stages.first()\n",
    "    second_stage = st_model.Stages.last()\n",
    "    \n",
    "    #First Stage\n",
    "    st_model.StageCost[first_stage] = 'FirstStageCost'\n",
    "    st_model.StageVariables[first_stage].add('x1')\n",
    "    st_model.StageVariables[first_stage].add('x2')\n",
    "    \n",
    "    #Second Stage\n",
    "    st_model.StageCost[second_stage] = 'SecondStageCost'\n",
    "    st_model.StageVariables[second_stage].add('y1')\n",
    "    st_model.StageVariables[second_stage].add('y2')\n",
    "    \n",
    "    return st_model\n",
    "\n",
    "def pysp_instance_creation_callback(scenario_name,node_names):\n",
    "    instance = model.clone()\n",
    "    d1.rhs_val=scenario_data[scenario_name]\n",
    "    instance.d1_rhs.value = d1_rhs_val\n",
    "    return instance\n",
    "    "
   ]
  },
  {
   "cell_type": "code",
   "execution_count": null,
   "metadata": {},
   "outputs": [],
   "source": []
  }
 ],
 "metadata": {
  "kernelspec": {
   "display_name": "Python 3",
   "language": "python",
   "name": "python3"
  },
  "language_info": {
   "codemirror_mode": {
    "name": "ipython",
    "version": 3
   },
   "file_extension": ".py",
   "mimetype": "text/x-python",
   "name": "python",
   "nbconvert_exporter": "python",
   "pygments_lexer": "ipython3",
   "version": "3.7.6"
  }
 },
 "nbformat": 4,
 "nbformat_minor": 2
}
